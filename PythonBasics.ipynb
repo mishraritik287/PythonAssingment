{
  "nbformat": 4,
  "nbformat_minor": 0,
  "metadata": {
    "colab": {
      "provenance": []
    },
    "kernelspec": {
      "name": "python3",
      "display_name": "Python 3"
    },
    "language_info": {
      "name": "python"
    }
  },
  "cells": [
    {
      "cell_type": "markdown",
      "source": [
        "Python Basics Assingnment\n",
        "\n",
        "\n"
      ],
      "metadata": {
        "id": "2NQs_z-eqtpU"
      }
    },
    {
      "cell_type": "markdown",
      "source": [
        "\n",
        "\n",
        "#  1. What is Python, and why is it popular?\n",
        "\n",
        "  -  Python is a high-level, interpreted programming language known for its simple syntax and readability, which makes it an excellent choice for both beginners and experienced developers. Developed by Guido van Rossum and first released in 1991, Python supports multiple programming paradigms, including procedural, object-oriented, and functional programming. It is popular because it emphasizes code readability and allows developers to write fewer lines of code to accomplish tasks compared to many other languages. Additionally, Python has a large standard library and a vibrant community that contributes numerous third-party packages and frameworks, such as Django for web development, Pandas and NumPy for data analysis, and TensorFlow for machine learning. Its cross-platform nature and integration capabilities make it suitable for various applications, including web development, automation, data science, artificial intelligence, and more.\n",
        "\n",
        "#  2. What is an interpreter in Python?\n",
        "\n",
        "-  An interpreter in Python is a program that reads and executes Python code line by line. Unlike compiled languages, where the code is translated into machine code before execution, Python code is interpreted directly at runtime. The Python interpreter processes each line of the source code and converts it into bytecode, which is then executed by the Python Virtual Machine (PVM). This approach allows for rapid development and testing, as there's no need to compile the code before running it. However, interpreted languages like Python may run slower than compiled ones because the translation happens at runtime.\n",
        "\n",
        "#  3. What are pre-defined keywords in Python?\n",
        "\n",
        "- Pre-defined keywords in Python are reserved words that have special meaning and purpose in the language. These keywords are part of Python’s syntax and cannot be used for variable names, function names, or any other identifiers. Examples include `if`, `else`, `while`, `for`, `break`, `continue`, `True`, `False`, `def`, `class`, `import`, and many more. Each keyword serves a specific function—for example, `if` is used for conditional statements, `def` is used to define a function, and `class` is used to define a class. As of Python 3.10+, there are 35 keywords, and you can see them by importing the `keyword` module using `import keyword; print(keyword.kwlist)`.\n",
        "\n",
        "#  4. Can keywords be used as variable names?\n",
        "\n",
        "-  No, keywords cannot be used as variable names in Python. Since they are reserved words that define the structure and rules of the language, using them as identifiers would lead to syntax errors. For example, assigning a value like `if = 5` or `class = 'Python'` would result in an error because `if` and `class` are reserved keywords. Python strictly prohibits this to avoid ambiguity in the code and to preserve the integrity of the language’s grammar.\n",
        "\n",
        "#  5. What is mutability in Python?\n",
        "\n",
        "-  Mutability in Python refers to an object's ability to change its internal state or contents after it has been created. If an object is mutable, it means that it can be modified in place without changing its identity (i.e., its memory address remains the same). Examples of mutable objects include lists, dictionaries, and sets. Conversely, immutable objects cannot be changed once they are created. If you try to modify them, a new object is created in memory. Examples of immutable objects include integers, floats, strings, and tuples. Understanding mutability is crucial in Python, especially when dealing with function arguments, as mutable objects can be changed within functions, affecting the original data.\n",
        "\n",
        "#  6. Why are lists mutable, but tuples are immutable?\n",
        "\n",
        "-  Lists are mutable in Python because they are designed to hold dynamic collections of items that can be changed—such as adding, removing, or modifying elements. This makes them suitable for use cases where data needs to be updated frequently. In contrast, tuples are immutable, meaning their contents cannot be changed once created. This immutability provides benefits such as faster performance, hashability (making them usable as dictionary keys), and greater data integrity when the data should not be modified. The design choice helps in scenarios where fixed data structures are needed, and it also contributes to safer and more predictable code behavior.\n",
        "\n",
        "#  7. What is the difference between “==” and “is” operators in Python?\n",
        "\n",
        "-  The `==` operator is used to compare the *values* of two objects to determine if they are equal, whereas the `is` operator checks whether two variables refer to the *same object* in memory. For example, `a == b` evaluates to `True` if `a` and `b` have the same content, even if they are stored in different memory locations. However, `a is b` returns `True` only if both variables point to the exact same object (i.e., same memory address). This distinction is important when working with mutable data types or when identity checks are needed, such as checking if a variable is `None` (`if x is None`).\n",
        "\n",
        "# ### 8. What are logical operators in Python?\n",
        "\n",
        "- fLogical operators in Python are used to perform logical operations on boolean expressions. They include:\n",
        "# - `and`: Returns `True` if both operands are true.\n",
        "# - `or`: Returns `True` if at least one of the operands is true.\n",
        "# - `not`: Reverses the logical state of its operand.\n",
        "\n",
        "# These operators are commonly used in conditional statements and loops to combine multiple conditions. For example, `if age > 18 and age < 60:` checks if a person’s age is within a specific range.\n",
        "\n",
        "#  9. What is type casting in Python?\n",
        "\n",
        "-  Type casting in Python is the process of converting one data type into another. This is useful when a variable of one type needs to be used as another type for computation or processing. For example, converting a string to an integer using `int(\"123\")` allows for numerical operations. Python supports both implicit and explicit type casting. Proper type casting helps prevent errors and ensures that data is used correctly within expressions and functions.\n",
        "\n",
        "#  10. What is the difference between implicit and explicit type casting?\n",
        "\n",
        "-  **Implicit type casting** is performed automatically by Python when it converts a value from one data type to another without programmer intervention. For example, in an expression like `3 + 2.5`, Python implicitly converts the integer `3` to a float and returns `5.5`. **Explicit type casting**, on the other hand, is done manually by the programmer using functions such as `int()`, `float()`, `str()`, etc. For instance, `int(\"10\")` converts the string `\"10\"` to the integer `10`. While implicit casting is convenient, explicit casting is often used to avoid ambiguity and ensure type safety.\n",
        "\n",
        "# 11. What is the purpose of conditional statements in Python?\n",
        "\n",
        "-  Conditional statements in Python are used to execute certain blocks of code based on whether a condition is true or false. These statements control the flow of the program and allow it to make decisions during execution. Python provides `if`, `elif`, and `else` statements for implementing conditions. For example, `if x > 0:` allows you to execute a specific action only if `x` is positive. This makes programs more dynamic and responsive to different inputs or situations.\n",
        "\n",
        "#  12. How does the elif statement work?\n",
        "\n",
        "-  The `elif` statement, short for \"else if,\" is used to check multiple expressions for `True` and execute a block of code as soon as one of the conditions evaluates to `True`. It follows an `if` statement and precedes an optional `else` statement. The structure allows for handling multiple conditions efficiently. For example:\n",
        "\n",
        "# ```python\n",
        "# if score >= 90:\n",
        "#     print(\"Grade: A\")\n",
        "# elif score >= 80:\n",
        "#     print(\"Grade: B\")\n",
        "# elif score >= 70:\n",
        "#     print(\"Grade: C\")\n",
        "# else:\n",
        "#     print(\"Grade: F\")\n",
        "\n",
        "# 13. What is the difference between for and while loops?\n",
        "\n",
        "-  A for loop in Python is used to iterate over a sequence (like a list, tuple, string, or range) and runs a fixed number of times. It is preferred when the number of iterations is known beforehand. For example, for i in range(5): will iterate exactly five times. A while loop, on the other hand, runs as long as a specified condition is true. It is useful when the number of iterations is not known in advance and depends on some dynamic condition. While loops are better suited for scenarios where the termination condition is evaluated at runtime rather than being predetermined.\n",
        "\n",
        "# 14. Describe a scenario where a while loop is more suitable than a for loop.\n",
        "\n",
        "-  A while loop is more suitable in situations where you don't know in advance how many times the loop should run, and the loop depends on a changing condition that occurs during runtime. For example, consider a user authentication system where a user is asked to enter the correct password. You would use a while loop to keep asking for the password until the correct one is entered:\n",
        "# correct_password = \"python123\"\n",
        "# user_input = input(\"Enter your password: \")\n",
        "\n",
        "# while user_input != correct_password:\n",
        "#     print(\"Incorrect password. Try again.\")\n",
        "#     user_input = input(\"Enter your password: \")\n",
        "\n",
        "# print(\"Access granted!\")\n"
      ],
      "metadata": {
        "id": "DfpYBbyMsgT4"
      }
    },
    {
      "cell_type": "code",
      "source": [
        "# 1. Write a Python program to print \"Hello, World!\"\n",
        "print(\"Hello, World!\")"
      ],
      "metadata": {
        "colab": {
          "base_uri": "https://localhost:8080/"
        },
        "id": "Pm6dPBXVECiT",
        "outputId": "25636c99-2722-4e82-adaf-e7df7c8d64c2"
      },
      "execution_count": 18,
      "outputs": [
        {
          "output_type": "stream",
          "name": "stdout",
          "text": [
            "Hello, World!\n"
          ]
        }
      ]
    },
    {
      "cell_type": "code",
      "source": [
        "# 2. Write a Python program that displays your name and age\n",
        "name = \"Ritesh\"\n",
        "age = 21\n",
        "print(\"Name:\", name)\n",
        "print(\"Age:\", age)"
      ],
      "metadata": {
        "colab": {
          "base_uri": "https://localhost:8080/"
        },
        "id": "VSqmkTs0EKqM",
        "outputId": "31799cea-2bc2-457e-91dc-52dfc33625bc"
      },
      "execution_count": 19,
      "outputs": [
        {
          "output_type": "stream",
          "name": "stdout",
          "text": [
            "Name: Ritesh\n",
            "Age: 21\n"
          ]
        }
      ]
    },
    {
      "cell_type": "code",
      "source": [
        "# 3. Write code to print all the pre-defined keywords in Python using the keyword library\n",
        "import keyword\n",
        "print(\"Python Keywords:\")\n",
        "print(keyword.kwlist)\n"
      ],
      "metadata": {
        "colab": {
          "base_uri": "https://localhost:8080/"
        },
        "id": "O9kzJVlLEO8D",
        "outputId": "a6863738-a444-489b-fd0c-841807b41efe"
      },
      "execution_count": 16,
      "outputs": [
        {
          "output_type": "stream",
          "name": "stdout",
          "text": [
            "Python Keywords:\n",
            "['False', 'None', 'True', 'and', 'as', 'assert', 'async', 'await', 'break', 'class', 'continue', 'def', 'del', 'elif', 'else', 'except', 'finally', 'for', 'from', 'global', 'if', 'import', 'in', 'is', 'lambda', 'nonlocal', 'not', 'or', 'pass', 'raise', 'return', 'try', 'while', 'with', 'yield']\n"
          ]
        }
      ]
    },
    {
      "cell_type": "code",
      "source": [
        "# 4. Write a program that checks if a given word is a Python keyword\n",
        "import keyword\n",
        "word = input(\"Enter a word: \")\n",
        "if keyword.iskeyword(word):\n",
        "    print(f\"'{word}' is a Python keyword.\")\n",
        "else:\n",
        "    print(f\"'{word}' is not a Python keyword.\")"
      ],
      "metadata": {
        "colab": {
          "base_uri": "https://localhost:8080/"
        },
        "id": "qMyac2QKESYb",
        "outputId": "9795e9c1-c35b-4a7c-81ca-1a4255c19593"
      },
      "execution_count": 15,
      "outputs": [
        {
          "output_type": "stream",
          "name": "stdout",
          "text": [
            "Enter a word: False\n",
            "'False' is a Python keyword.\n"
          ]
        }
      ]
    },
    {
      "cell_type": "code",
      "source": [
        "# 5. Write a function to demonstrate the behavior of mutable and immutable arguments\n",
        "def modify_data(immutable, mutable):\n",
        "    immutable += 1\n",
        "    mutable.append(4)\n",
        "    print(\"Inside function - immutable:\", immutable)\n",
        "    print(\"Inside function - mutable:\", mutable)\n",
        "x = 10\n",
        "y = [1, 2, 3]\n",
        "modify_data(x, y)\n",
        "print(\"Outside function - immutable:\", x)  # Unchanged\n",
        "print(\"Outside function - mutable:\", y)    # Changed"
      ],
      "metadata": {
        "colab": {
          "base_uri": "https://localhost:8080/"
        },
        "id": "Gsv449DCEWIo",
        "outputId": "44e15cce-614d-47fd-f411-4f146022c4dd"
      },
      "execution_count": 12,
      "outputs": [
        {
          "output_type": "stream",
          "name": "stdout",
          "text": [
            "Inside function - immutable: 11\n",
            "Inside function - mutable: [1, 2, 3, 4]\n",
            "Outside function - immutable: 10\n",
            "Outside function - mutable: [1, 2, 3, 4]\n"
          ]
        }
      ]
    },
    {
      "cell_type": "code",
      "source": [
        "\n",
        "# 6. Write a program that performs basic arithmetic operations on two user-input numbers\n",
        "num1 = float(input(\"Enter first number: \"))\n",
        "num2 = float(input(\"Enter second number: \"))\n",
        "\n",
        "print(\"Sum:\", num1 + num2)\n",
        "print(\"Difference:\", num1 - num2)\n",
        "print(\"Product:\", num1 * num2)\n",
        "if num2 != 0:\n",
        "    print(\"Division:\", num1 / num2)\n",
        "else:\n",
        "    print(\"Cannot divide by zero.\")"
      ],
      "metadata": {
        "colab": {
          "base_uri": "https://localhost:8080/"
        },
        "id": "gx6HxemnEor2",
        "outputId": "268bbf9e-3947-49d9-ad3d-8176e80e103f"
      },
      "execution_count": 11,
      "outputs": [
        {
          "output_type": "stream",
          "name": "stdout",
          "text": [
            "Enter first number: 3\n",
            "Enter second number: 5\n",
            "Sum: 8.0\n",
            "Difference: -2.0\n",
            "Product: 15.0\n",
            "Division: 0.6\n"
          ]
        }
      ]
    },
    {
      "cell_type": "code",
      "source": [
        "# 7. Write a program to demonstrate the use of logical operators\n",
        "a = int(input(\"Enter first number: \"))\n",
        "b = int(input(\"Enter second number: \"))\n",
        "\n",
        "print(\"a > 0 and b > 0:\", a > 0 and b > 0)\n",
        "print(\"a > 0 or b > 0:\", a > 0 or b > 0)\n",
        "print(\"not (a > 0):\", not (a > 0))"
      ],
      "metadata": {
        "colab": {
          "base_uri": "https://localhost:8080/"
        },
        "id": "RuvYFSOpEsR4",
        "outputId": "110fdc42-ddbb-433e-9271-288ab7748b31"
      },
      "execution_count": 10,
      "outputs": [
        {
          "output_type": "stream",
          "name": "stdout",
          "text": [
            "Enter first number: 1\n",
            "Enter second number: 4\n",
            "a > 0 and b > 0: True\n",
            "a > 0 or b > 0: True\n",
            "not (a > 0): False\n"
          ]
        }
      ]
    },
    {
      "cell_type": "code",
      "source": [
        "\n",
        "# 8. Create a list and tuple in Python, and demonstrate how attempting to change an element works differently for each\n",
        "my_list = [10, 20, 30]\n",
        "my_tuple = (10, 20, 30)\n",
        "\n",
        "print(\"Original List:\", my_list)\n",
        "my_list[1] = 99\n",
        "print(\"Modified List:\", my_list)\n",
        "\n",
        "print(\"Original Tuple:\", my_tuple)\n",
        "try:\n",
        "    my_tuple[1] = 99\n",
        "except TypeError as e:\n",
        "    print(\"Error trying to modify tuple:\", e)"
      ],
      "metadata": {
        "colab": {
          "base_uri": "https://localhost:8080/"
        },
        "id": "GdKBxop_EvRn",
        "outputId": "625f3d1e-8804-4559-e61b-cd4042f9ecd9"
      },
      "execution_count": 9,
      "outputs": [
        {
          "output_type": "stream",
          "name": "stdout",
          "text": [
            "Original List: [10, 20, 30]\n",
            "Modified List: [10, 99, 30]\n",
            "Original Tuple: (10, 20, 30)\n",
            "Error trying to modify tuple: 'tuple' object does not support item assignment\n"
          ]
        }
      ]
    },
    {
      "cell_type": "code",
      "source": [
        "# 9. Write a Python program to convert user input from string to integer, float, and boolean types\n",
        "user_input = input(\"Enter a value: \")\n",
        "\n",
        "int_value = int(user_input)\n",
        "float_value = float(user_input)\n",
        "bool_value = bool(user_input)\n",
        "\n",
        "print(\"Integer:\", int_value)\n",
        "print(\"Float:\", float_value)\n",
        "print(\"Boolean:\", bool_value)"
      ],
      "metadata": {
        "colab": {
          "base_uri": "https://localhost:8080/"
        },
        "id": "O-ZKLu8qE0H6",
        "outputId": "3c59ecc5-1c0a-4b12-91c7-197bd26ccd71"
      },
      "execution_count": 8,
      "outputs": [
        {
          "output_type": "stream",
          "name": "stdout",
          "text": [
            "Enter a value: 10\n",
            "Integer: 10\n",
            "Float: 10.0\n",
            "Boolean: True\n"
          ]
        }
      ]
    },
    {
      "cell_type": "code",
      "source": [
        "# 10. Write code to demonstrate type casting with list elements\n",
        "str_list = ['1', '2', '3', '4']\n",
        "int_list = [int(x) for x in str_list]\n",
        "print(\"Original string list:\", str_list)\n",
        "print(\"After casting to integers:\", int_list)"
      ],
      "metadata": {
        "colab": {
          "base_uri": "https://localhost:8080/"
        },
        "id": "Qx4JaJAxE3l8",
        "outputId": "7b99da01-ab57-4840-ad5a-265356f0be73"
      },
      "execution_count": 7,
      "outputs": [
        {
          "output_type": "stream",
          "name": "stdout",
          "text": [
            "Original string list: ['1', '2', '3', '4']\n",
            "After casting to integers: [1, 2, 3, 4]\n"
          ]
        }
      ]
    },
    {
      "cell_type": "code",
      "source": [
        "# 11. Write a program that checks if a number is positive, negative, or zero\n",
        "num = float(input(\"Enter a number: \"))\n",
        "\n",
        "if num > 0:\n",
        "    print(\"The number is positive.\")\n",
        "elif num < 0:\n",
        "    print(\"The number is negative.\")\n",
        "else:\n",
        "    print(\"The number is zero.\")"
      ],
      "metadata": {
        "colab": {
          "base_uri": "https://localhost:8080/"
        },
        "id": "agl_CpgYE6xM",
        "outputId": "389c9a62-6e2b-4f07-e016-5f339481b36a"
      },
      "execution_count": 6,
      "outputs": [
        {
          "output_type": "stream",
          "name": "stdout",
          "text": [
            "Enter a number: 19\n",
            "The number is positive.\n"
          ]
        }
      ]
    },
    {
      "cell_type": "code",
      "source": [
        "# 12. Write a for loop to print numbers from 1 to 10\n",
        "for i in range(1, 11):\n",
        "    print(i)"
      ],
      "metadata": {
        "colab": {
          "base_uri": "https://localhost:8080/"
        },
        "id": "RvOOIuwFFAPm",
        "outputId": "8226df87-ac9f-4f08-a1a0-cc1a0238e5f8"
      },
      "execution_count": 5,
      "outputs": [
        {
          "output_type": "stream",
          "name": "stdout",
          "text": [
            "1\n",
            "2\n",
            "3\n",
            "4\n",
            "5\n",
            "6\n",
            "7\n",
            "8\n",
            "9\n",
            "10\n"
          ]
        }
      ]
    },
    {
      "cell_type": "code",
      "source": [
        "# 13. Write a Python program to find the sum of all even numbers between 1 and 50\n",
        "total = 0\n",
        "for i in range(1, 51):\n",
        "    if i % 2 == 0:\n",
        "        total += i\n",
        "print(\"Sum of even numbers between 1 and 50 is:\", total)"
      ],
      "metadata": {
        "colab": {
          "base_uri": "https://localhost:8080/"
        },
        "id": "jiFFbKQTFD37",
        "outputId": "8d2bf708-f71e-4469-ae9d-6c27aaece966"
      },
      "execution_count": 4,
      "outputs": [
        {
          "output_type": "stream",
          "name": "stdout",
          "text": [
            "Sum of even numbers between 1 and 50 is: 650\n"
          ]
        }
      ]
    },
    {
      "cell_type": "code",
      "source": [
        "\n",
        "# 14. Write a program to reverse a string using a while loop\n",
        "text = input(\"Enter a string: \")\n",
        "reversed_text = \"\"\n",
        "index = len(text) - 1\n",
        "\n",
        "while index >= 0:\n",
        "    reversed_text += text[index]\n",
        "    index -= 1\n",
        "\n",
        "print(\"Reversed string:\", reversed_text)"
      ],
      "metadata": {
        "colab": {
          "base_uri": "https://localhost:8080/"
        },
        "id": "XT5EJJ-lFKwb",
        "outputId": "876b10e7-837a-4ca2-93d6-dc49fa0c8770"
      },
      "execution_count": 3,
      "outputs": [
        {
          "output_type": "stream",
          "name": "stdout",
          "text": [
            "Enter a string: Ritesh\n",
            "Reversed string: hsetiR\n"
          ]
        }
      ]
    },
    {
      "cell_type": "code",
      "source": [
        "# 15. Write a Python program to calculate the factorial of a number provided by the user using a while loop\n",
        "num = int(input(\"Enter a number to find factorial: \"))\n",
        "factorial = 1\n",
        "temp = num\n",
        "\n",
        "while temp > 1:\n",
        "    factorial *= temp\n",
        "    temp -= 1\n",
        "\n",
        "print(f\"Factorial of {num} is: {factorial}\")"
      ],
      "metadata": {
        "colab": {
          "base_uri": "https://localhost:8080/"
        },
        "id": "yRTkB5ehFO7m",
        "outputId": "bc41b084-cc71-4e52-cf1a-5e39d333f26a"
      },
      "execution_count": 2,
      "outputs": [
        {
          "output_type": "stream",
          "name": "stdout",
          "text": [
            "Enter a number to find factorial: 4\n",
            "Factorial of 4 is: 24\n"
          ]
        }
      ]
    }
  ]
}